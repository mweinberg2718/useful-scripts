{
 "cells": [
  {
   "cell_type": "markdown",
   "metadata": {},
   "source": [
    "# ServiceX tutorial\n",
    "\n",
    "Analysis code in HEP often involves several intermediate steps, including ntuplization and multiple skimmed subsets of data, and represents a significant investment of effort before it's possible to start making plots. The goal of ServiceX is to streamline this process by offering a high-performance pipeline directly from a complex starting data format like xAOD or DAOD to an analysis-friendly columnar format that can immediately be streamed by the analyzers.\n",
    "\n",
    "In this tutorial we will go all the way from a dataset in xAOD format to an invariant mass plot. We will start from a 700GB MC dataset of ~ 2 million Z -> ee events distributed across 17 files in Rucio. From this we will read out 12 columns (the 4-momenta from the jets, electrons, and muons collections), which will be streamed to a message broker, where they can be read out by a user to produce plots.\n",
    "\n",
    "As a first step, we install the necessary Python libraries:"
   ]
  },
  {
   "cell_type": "code",
   "execution_count": 1,
   "metadata": {},
   "outputs": [
    {
     "name": "stdout",
     "output_type": "stream",
     "text": [
      "Collecting kafka-python\n",
      "  Using cached https://files.pythonhosted.org/packages/aa/34/12f219f7f9e68e79a54874d26fbe974db1ab4efac4e6dae665b421df48f9/kafka_python-2.0.1-py2.py3-none-any.whl\n",
      "Collecting lz4\n",
      "  Using cached https://files.pythonhosted.org/packages/36/cc/81d45c7a6762cf4d8c969d26fb910059f039b4c5b7f9a9d8f4bdbab2b1b7/lz4-3.0.2-cp36-cp36m-manylinux1_x86_64.whl\n",
      "Collecting pyarrow\n",
      "  Using cached https://files.pythonhosted.org/packages/52/52/56b6cc41275cdc860c242febd1fae170bb6df461e4d0bdb6961dd6a32a9a/pyarrow-0.17.0-cp36-cp36m-manylinux1_x86_64.whl\n",
      "Collecting uproot\n",
      "  Using cached https://files.pythonhosted.org/packages/6d/fb/5d62be2dd24245eabdc7802b27ba784698134445ef07b71ecf0baf0993dd/uproot-3.11.3-py2.py3-none-any.whl\n",
      "Collecting minio\n",
      "  Using cached https://files.pythonhosted.org/packages/aa/60/81f4a1dc2d320832840288d7ec88aa3e4ee495d8f1452b4c79d8bd67136b/minio-5.0.10-py2.py3-none-any.whl\n",
      "Collecting confluent_kafka\n",
      "  Using cached https://files.pythonhosted.org/packages/47/f5/6a7c2c3a2a880f8e6a3bbf71c3ba685a2761d96925e3c900fce11bfc4478/confluent_kafka-1.4.1-cp36-cp36m-manylinux1_x86_64.whl\n",
      "Collecting coffea\n",
      "  Using cached https://files.pythonhosted.org/packages/50/2f/bf4c2a00e997a5541f94291fb0dd8e2f6f9f707d9e56fb430af1febac17f/coffea-0.6.39-py2.py3-none-any.whl\n",
      "Collecting numpy>=1.14 (from pyarrow)\n",
      "  Using cached https://files.pythonhosted.org/packages/3d/fc/4763e5f17ac6e7e7d55f377cde859ca1c5d5ac624441ab45315bc578aa9e/numpy-1.18.3-cp36-cp36m-manylinux1_x86_64.whl\n",
      "Collecting cachetools (from uproot)\n",
      "  Using cached https://files.pythonhosted.org/packages/b3/59/524ffb454d05001e2be74c14745b485681c6ed5f2e625f71d135704c0909/cachetools-4.1.0-py3-none-any.whl\n",
      "Collecting uproot-methods>=0.7.0 (from uproot)\n",
      "  Using cached https://files.pythonhosted.org/packages/f9/ef/ebda89e281a85f73dac69e56c1c26c94bd711efa6386dc6028b630ca92b3/uproot_methods-0.7.3-py2.py3-none-any.whl\n",
      "Collecting awkward<1.0,>=0.12.0 (from uproot)\n",
      "  Using cached https://files.pythonhosted.org/packages/73/ce/f7af4702cb2c52d550fa357855b34ff82e388ee5285ba2d26ff7d41395d1/awkward-0.12.20-py2.py3-none-any.whl\n",
      "Collecting configparser (from minio)\n",
      "  Using cached https://files.pythonhosted.org/packages/4b/6b/01baa293090240cf0562cc5eccb69c6f5006282127f2b846fad011305c79/configparser-5.0.0-py3-none-any.whl\n",
      "Collecting pytz (from minio)\n",
      "  Using cached https://files.pythonhosted.org/packages/4f/a4/879454d49688e2fad93e59d7d4efda580b783c745fd2ec2a3adf87b0808d/pytz-2020.1-py2.py3-none-any.whl\n",
      "Collecting mplhep>=0.1.14 (from coffea)\n",
      "  Using cached https://files.pythonhosted.org/packages/a0/a0/3897c9f5bbe893b43ec05be94a9bdb244031cf97a8506cf969704c0016d9/mplhep-0.1.20-py3-none-any.whl\n",
      "Collecting tqdm>=4.27.0 (from coffea)\n",
      "  Using cached https://files.pythonhosted.org/packages/4a/1c/6359be64e8301b84160f6f6f7936bbfaaa5e9a4eab6cbc681db07600b949/tqdm-4.45.0-py2.py3-none-any.whl\n",
      "Collecting matplotlib>=3 (from coffea)\n",
      "  Using cached https://files.pythonhosted.org/packages/93/4b/52da6b1523d5139d04e02d9e26ceda6146b48f2a4e5d2abfdf1c7bac8c40/matplotlib-3.2.1-cp36-cp36m-manylinux1_x86_64.whl\n",
      "Collecting ipywidgets (from coffea)\n",
      "  Using cached https://files.pythonhosted.org/packages/56/a0/dbcf5881bb2f51e8db678211907f16ea0a182b232c591a6d6f276985ca95/ipywidgets-7.5.1-py2.py3-none-any.whl\n",
      "Collecting pandas (from coffea)\n",
      "  Using cached https://files.pythonhosted.org/packages/bb/71/8f53bdbcbc67c912b888b40def255767e475402e9df64050019149b1a943/pandas-1.0.3-cp36-cp36m-manylinux1_x86_64.whl\n",
      "Collecting cloudpickle (from coffea)\n",
      "  Using cached https://files.pythonhosted.org/packages/c6/a5/bb99276ec2685e11d34e4aefc0d9238626843ea51f974aa59c68317d34b2/cloudpickle-1.4.1-py3-none-any.whl\n",
      "Collecting packaging (from coffea)\n",
      "  Using cached https://files.pythonhosted.org/packages/62/0a/34641d2bf5c917c96db0ded85ae4da25b6cd922d6b794648d4e7e07c88e5/packaging-20.3-py2.py3-none-any.whl\n",
      "Collecting numba>=0.43.1 (from coffea)\n",
      "  Using cached https://files.pythonhosted.org/packages/c8/1d/3d904b2d5f2c350dbab76912e0ba5cb17469f392520a9899361a363e1741/numba-0.49.0-cp36-cp36m-manylinux1_x86_64.whl\n",
      "Collecting scipy>=1.1.0 (from coffea)\n",
      "  Using cached https://files.pythonhosted.org/packages/dc/29/162476fd44203116e7980cfbd9352eef9db37c49445d1fec35509022f6aa/scipy-1.4.1-cp36-cp36m-manylinux1_x86_64.whl\n",
      "Collecting requests~=2.21 (from mplhep>=0.1.14->coffea)\n",
      "  Using cached https://files.pythonhosted.org/packages/1a/70/1935c770cb3be6e3a8b78ced23d7e0f3b187f5cbfab4749523ed65d7c9b1/requests-2.23.0-py2.py3-none-any.whl\n",
      "Collecting pyparsing!=2.0.4,!=2.1.2,!=2.1.6,>=2.0.1 (from matplotlib>=3->coffea)\n",
      "  Using cached https://files.pythonhosted.org/packages/8a/bb/488841f56197b13700afd5658fc279a2025a39e22449b7cf29864669b15d/pyparsing-2.4.7-py2.py3-none-any.whl\n",
      "Collecting kiwisolver>=1.0.1 (from matplotlib>=3->coffea)\n",
      "  Using cached https://files.pythonhosted.org/packages/ae/23/147de658aabbf968324551ea22c0c13a00284c4ef49a77002e91f79657b7/kiwisolver-1.2.0-cp36-cp36m-manylinux1_x86_64.whl\n",
      "Collecting cycler>=0.10 (from matplotlib>=3->coffea)\n",
      "  Using cached https://files.pythonhosted.org/packages/f7/d2/e07d3ebb2bd7af696440ce7e754c59dd546ffe1bbe732c8ab68b9c834e61/cycler-0.10.0-py2.py3-none-any.whl\n",
      "Collecting widgetsnbextension~=3.5.0 (from ipywidgets->coffea)\n",
      "  Using cached https://files.pythonhosted.org/packages/6c/7b/7ac231c20d2d33c445eaacf8a433f4e22c60677eb9776c7c5262d7ddee2d/widgetsnbextension-3.5.1-py2.py3-none-any.whl\n",
      "Collecting llvmlite<=0.33.0.dev0,>=0.31.0.dev0 (from numba>=0.43.1->coffea)\n",
      "  Using cached https://files.pythonhosted.org/packages/23/19/20c085fe98c8df8953a18d8ef15902b9be0438b7ee19586b9e9124da1a32/llvmlite-0.32.0-cp36-cp36m-manylinux1_x86_64.whl\n"
     ]
    }
   ],
   "source": [
    "import sys\n",
    "!{sys.executable} -m pip install kafka-python lz4 pyarrow uproot minio confluent_kafka coffea"
   ]
  },
  {
   "cell_type": "markdown",
   "metadata": {},
   "source": [
    "And import some useful modules:"
   ]
  },
  {
   "cell_type": "code",
   "execution_count": 2,
   "metadata": {},
   "outputs": [],
   "source": [
    "import requests\n",
    "from minio import Minio\n",
    "import tempfile\n",
    "import pyarrow.parquet as pq\n",
    "import pyarrow as pa\n",
    "import uproot\n",
    "import uproot_methods\n",
    "from confluent_kafka import Consumer, KafkaException\n",
    "from coffea import hist\n",
    "import matplotlib.pyplot as plt\n",
    "import time"
   ]
  },
  {
   "cell_type": "markdown",
   "metadata": {},
   "source": [
    "### Transform the data\n",
    "\n",
    "ServiceX starts with the creation of a request. The user specifies the dataset to be transformed, along with the selection to be implemented (columns to be streamed out and any event-level filtering to be applied). For this tutorial we will take a Z -> ee MC dataset and read out the 4-momenta from three different object collections, which are then streamed to our broker for analysis.\n",
    "\n",
    "We use a custom querying language to create the contents of the request in a format that can be read by the service. This language is very powerful and enables the user to specify a large number of features of the request, including computations to be performed (e.g. energy corrections for jets) or cuts to be used for in-place filtering. In our current example we're only interested in specifying the output columns. Specifically we ask for the following:\n",
    "\n",
    "```\n",
    "AntiKt4EMTopoJets.e\n",
    "AntiKt4EMTopoJets.eta\n",
    "AntiKt4EMTopoJets.phi\n",
    "AntiKt4EMTopoJets.pt\n",
    "Electrons.e\n",
    "Electrons.eta\n",
    "Electrons.phi\n",
    "Electrons.pt\n",
    "Muons.e\n",
    "Muons.eta\n",
    "Muons.phi\n",
    "Muons.pt\n",
    "```\n",
    "\n",
    "The query that extracts these columns is reproduced below, but if you'd like to try out your own custom requests, this can be done with a small script located [here](https://github.com/mweinberg2718/useful-scripts/blob/master/xaod_qastle.py). Place the requested columns in a text file and call the file as an argument to the script to produce the associated query:\n",
    "\n",
    "```\n",
    "python xaod_qastle.py xaod_branches.txt\n",
    "```\n",
    "\n",
    "Starting from the columns shown above, we can send a request to ServiceX, which immediately returns a unique string that serves as the ID of the request. This request ID can be used to get updates on the progress of the system and to identify the data in the message broker."
   ]
  },
  {
   "cell_type": "code",
   "execution_count": 3,
   "metadata": {},
   "outputs": [
    {
     "name": "stdout",
     "output_type": "stream",
     "text": [
      "Request ID: 2e6a5a34-975e-4c10-a8ec-8d85120f6721\n"
     ]
    }
   ],
   "source": [
    "# Configuration for ServiceX. These lines give the location of the service, the transformer to be\n",
    "# used, the number of events per \"chunk\" in the broker, the number of workers assigned to transform\n",
    "# the dataset, and the location of the output.\n",
    "servicex_endpoint = 'http://marc-xaod-servicex-app.servicex:8000/servicex'\n",
    "image_name = 'sslhep/servicex_xaod_cpp_transformer:MyConfigChunks'\n",
    "chunk_size = 1000\n",
    "n_workers = 10\n",
    "broker_name = 'kafka-inc.servicex:9092'\n",
    "\n",
    "# This defines the request itself. The first line gives the location of the dataset in Rucio, while\n",
    "# the second specifies which columns to read out.\n",
    "did_name = 'mc15_13TeV:mc15_13TeV.361106.PowhegPythia8EvtGen_AZNLOCTEQ6L1_Zee.merge.DAOD_STDM3.e3601_s2576_s2132_r6630_r6264_p2363_tid05630052_00'\n",
    "selection_name = (\n",
    "    \"(call ResultTTree (call Select (call Select (call EventDataset (list 'localds:bogus')) (lambda (list e) (list (call (attr e 'Jets') 'AntiKt4EMTopoJets') (call (attr e 'Electrons') 'Electrons') (call (attr e 'Muons') 'Muons') ))) (lambda (list e) (list (call (attr (subscript e 0) 'Select') (lambda (list antikt4emtopojets) (call (attr antikt4emtopojets 'e')))) (call (attr (subscript e 0) 'Select') (lambda (list antikt4emtopojets) (call (attr antikt4emtopojets 'eta')))) (call (attr (subscript e 0) 'Select') (lambda (list antikt4emtopojets) (call (attr antikt4emtopojets 'phi')))) (call (attr (subscript e 0) 'Select') (lambda (list antikt4emtopojets) (call (attr antikt4emtopojets 'pt')))) (call (attr (subscript e 1) 'Select') (lambda (list electrons) (call (attr electrons 'e')))) (call (attr (subscript e 1) 'Select') (lambda (list electrons) (call (attr electrons 'eta')))) (call (attr (subscript e 1) 'Select') (lambda (list electrons) (call (attr electrons 'phi')))) (call (attr (subscript e 1) 'Select') (lambda (list electrons) (call (attr electrons 'pt')))) (call (attr (subscript e 2) 'Select') (lambda (list muons) (call (attr muons 'e')))) (call (attr (subscript e 2) 'Select') (lambda (list muons) (call (attr muons 'eta')))) (call (attr (subscript e 2) 'Select') (lambda (list muons) (call (attr muons 'phi')))) (call (attr (subscript e 2) 'Select') (lambda (list muons) (call (attr muons 'pt')))) ))) (list 'antikt4emtopojets_e' 'antikt4emtopojets_eta' 'antikt4emtopojets_phi' 'antikt4emtopojets_pt' 'electrons_e' 'electrons_eta' 'electrons_phi' 'electrons_pt' 'muons_e' 'muons_eta' 'muons_phi' 'muons_pt' ) 'forkme' 'dude.root')\"\n",
    "    )\n",
    "\n",
    "# With these defined, we submit the request to ServiceX. Note the output will be stored in Arrow\n",
    "# arrays in the Kafka message broker\n",
    "response = requests.post(servicex_endpoint+\"/transformation\", json={\n",
    "    \"did\": did_name,\n",
    "    \"selection\": selection_name,\n",
    "    \"image\": image_name,\n",
    "    \"chunk-size\": chunk_size,\n",
    "    \"workers\": n_workers,\n",
    "    \"result-destination\": \"kafka\",\n",
    "    \"result-format\": \"arrow\",\n",
    "    \"kafka\":{\n",
    "        \"broker\": broker_name\n",
    "        }\n",
    "    })\n",
    "\n",
    "# Get the ID of the request\n",
    "print(\"Request ID:\", response.json()['request_id'])\n",
    "request_id = response.json()[\"request_id\"]\n",
    "status_endpoint = servicex_endpoint+\"/transformation/{}/status\".format(request_id)"
   ]
  },
  {
   "cell_type": "markdown",
   "metadata": {},
   "source": [
    "### Get updates on the transformation\n",
    "\n",
    "Once the request is sent, we can get information back on the status of the request. Note that the transformer begins running as soon as the first files from the dataset are found within Rucio."
   ]
  },
  {
   "cell_type": "code",
   "execution_count": 4,
   "metadata": {},
   "outputs": [
    {
     "name": "stdout",
     "output_type": "stream",
     "text": [
      "Request ID:                2e6a5a34-975e-4c10-a8ec-8d85120f6721\n",
      "Number of files processed: 17\n",
      "Number of files remaining: 0\n",
      "Maximum time per file:     344 sec\n",
      "Average time per file:     85.88235294117646 sec\n",
      "Minimum time per file:     17 sec\n",
      "Total time:                2.433333333333333 min\n"
     ]
    }
   ],
   "source": [
    "status = requests.get(status_endpoint).json()\n",
    "\n",
    "print(\"Request ID:               \", status['request-id'])\n",
    "print(\"Number of files processed:\", status['files-processed'])\n",
    "print(\"Number of files remaining:\", status['files-remaining'])\n",
    "if status['stats']:\n",
    "    print(\"Maximum time per file:    \", status['stats']['max-time'], \"sec\")\n",
    "    print(\"Average time per file:    \", status['stats']['avg-time'], \"sec\")\n",
    "    print(\"Minimum time per file:    \", status['stats']['min-time'], \"sec\")\n",
    "    print(\"Total time:               \", status['stats']['total-time'] / (n_workers * 60), \"min\")"
   ]
  },
  {
   "cell_type": "markdown",
   "metadata": {},
   "source": [
    "### Read columns from message broker\n",
    "\n",
    "Once you've started writing data to the Kafka message broker, you can start to read it out. Note that you don't have to wait until the transform is finished to start reading the data. We'll create a Kafka *consumer* to read the data; this can run concurrently with the producer that loads the data into Kafka."
   ]
  },
  {
   "cell_type": "code",
   "execution_count": 5,
   "metadata": {},
   "outputs": [],
   "source": [
    "from kafka import KafkaConsumer\n",
    "\n",
    "# Here we specify the consumer group; to start reading data from the beginning, simply change this\n",
    "# group_id string\n",
    "consumer = KafkaConsumer(status['request-id'],\n",
    "                         bootstrap_servers=['kafka-inc.servicex:9092'],\n",
    "                         group_id='group_2',\n",
    "                         consumer_timeout_ms=10000,\n",
    "                         auto_offset_reset='earliest')\n",
    "\n",
    "# Set up a histogram to hold the invariant mass\n",
    "all_mass_hists = None\n",
    "n_total_events = 0\n",
    "n_total_messages = 0"
   ]
  },
  {
   "cell_type": "markdown",
   "metadata": {},
   "source": [
    "You can start reading data out of Kafka as soon as the first record is put in. If more data shows up later, you can simply re-run the code snippet below. So long as the `group_id` doesn't change, the consumer will pick up where it left off. (Conversely, to run your code from the beginning, go back up and create a new consumer with a different `group_id` string.)"
   ]
  },
  {
   "cell_type": "code",
   "execution_count": 6,
   "metadata": {},
   "outputs": [
    {
     "name": "stdout",
     "output_type": "stream",
     "text": [
      "Total time to make histograms: 29.891993761062622 sec\n",
      "Total messages: 1994\n"
     ]
    }
   ],
   "source": [
    "# We'll use AwkwardArray and Coffea tools to read out the Arrow arrays and create nice histograms\n",
    "import awkward\n",
    "\n",
    "# Read through each of the messages in the Kafka topic (defined by the request ID), select events\n",
    "# with at least 2 electrons, and put their invariant mass into a histogram\n",
    "tic = time.time()\n",
    "for message in consumer:\n",
    "    buffer = message.value\n",
    "    reader = pa.ipc.open_stream(buffer)\n",
    "    batches = [b for b in reader]\n",
    "    \n",
    "    n_total_messages += 1\n",
    "    \n",
    "    for batch in batches:\n",
    "        arrays = awkward.fromarrow(batch)\n",
    "        v_particles = uproot_methods.TLorentzVectorArray.from_ptetaphi(\n",
    "            arrays['electrons_pt'], arrays['electrons_eta'],\n",
    "            arrays['electrons_phi'], arrays['electrons_e']\n",
    "            )\n",
    "        v_particles = v_particles[v_particles.counts >= 2]\n",
    "        diparticles = v_particles[:, 0] + v_particles[:, 1]\n",
    "        \n",
    "        mass_hist = hist.Hist('Counts', hist.Bin('mass', r'$m_{ee}$ (GeV)', 150, 0.0, 150.0))\n",
    "        mass_hist.fill(mass=diparticles.mass/1000.0)\n",
    "        \n",
    "        if all_mass_hists:\n",
    "            all_mass_hists = all_mass_hists.add(mass_hist)\n",
    "        else:\n",
    "            all_mass_hists = mass_hist\n",
    "\n",
    "toc = time.time()\n",
    "print(\"Total time to make histograms:\", str(toc - tic), \"sec\")\n",
    "print(\"Total messages:\", n_total_messages)"
   ]
  },
  {
   "cell_type": "markdown",
   "metadata": {},
   "source": [
    "We can now use standard matplotlib tools to plot the resulting histogram"
   ]
  },
  {
   "cell_type": "code",
   "execution_count": 7,
   "metadata": {},
   "outputs": [
    {
     "name": "stderr",
     "output_type": "stream",
     "text": [
      "/opt/conda/lib/python3.6/site-packages/mplhep/_deprecate.py:56: DeprecationWarning: kwarg \"densitymode\" in function \"histplot\" is deprecated and may be removed in future versions: \"unit\"mode is not useful\n",
      "  return func(*args, **kwargs)\n"
     ]
    },
    {
     "data": {
      "image/png": "[encoded data removed]",
      "text/plain": [
       "<Figure size 432x288 with 1 Axes>"
      ]
     },
     "metadata": {},
     "output_type": "display_data"
    }
   ],
   "source": [
    "fig = hist.plot1d(all_mass_hists)\n",
    "plt.show()"
   ]
  },
  {
   "cell_type": "code",
   "execution_count": null,
   "metadata": {},
   "outputs": [],
   "source": []
  }
 ],
 "metadata": {
  "kernelspec": {
   "display_name": "Python 3",
   "language": "python",
   "name": "python3"
  },
  "language_info": {
   "codemirror_mode": {
    "name": "ipython",
    "version": 3
   },
   "file_extension": ".py",
   "mimetype": "text/x-python",
   "name": "python",
   "nbconvert_exporter": "python",
   "pygments_lexer": "ipython3",
   "version": "3.6.5"
  }
 },
 "nbformat": 4,
 "nbformat_minor": 2
}
